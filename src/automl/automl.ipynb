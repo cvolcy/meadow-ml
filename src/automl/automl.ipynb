{
 "cells": [
  {
   "cell_type": "markdown",
   "metadata": {},
   "source": [
    "# AutoML\n",
    "\n",
    "Testing out automl frameworks\n",
    "\n",
    "## Auto-Sklearn\n",
    "\n",
    "### Installation\n",
    "\n",
    "**<span style=\"color:red\">Warning : auto-sklearn doesn't work on Windows</span>**\n",
    "\n",
    "```bash\n",
    "!pip install auto-sklearn\n",
    "```\n",
    "\n",
    "### Benchmark against regular models "
   ]
  },
  {
   "cell_type": "code",
   "execution_count": 2,
   "metadata": {},
   "outputs": [],
   "source": [
    "from sklearn.datasets import load_iris"
   ]
  },
  {
   "cell_type": "markdown",
   "metadata": {},
   "source": [
    "Loading the iris dataset"
   ]
  },
  {
   "cell_type": "code",
   "execution_count": 3,
   "metadata": {},
   "outputs": [],
   "source": [
    "data, labels = load_iris(return_X_y=True)"
   ]
  },
  {
   "cell_type": "markdown",
   "metadata": {},
   "source": [
    "Splitting the data into training and test sets\n",
    "80% / 20%"
   ]
  },
  {
   "cell_type": "code",
   "execution_count": 12,
   "metadata": {},
   "outputs": [],
   "source": [
    "split_idx = int(data.shape[0] * 0.8)\n",
    "\n",
    "train_x = data[:split_idx]\n",
    "train_y = labels[:split_idx]\n",
    "test_x = data[split_idx:]\n",
    "test_y = labels[split_idx:]"
   ]
  },
  {
   "cell_type": "markdown",
   "metadata": {},
   "source": [
    "Setup 3 classifiers for base models of the benchmark"
   ]
  },
  {
   "cell_type": "code",
   "execution_count": 10,
   "metadata": {},
   "outputs": [],
   "source": [
    "from sklearn.svm import SVC\n",
    "from sklearn.neural_network import MLPClassifier\n",
    "from sklearn.neighbors import KNeighborsClassifier\n",
    "\n",
    "knn = KNeighborsClassifier()\n",
    "mlp = MLPClassifier(max_iter=2000)\n",
    "svm = SVC()"
   ]
  },
  {
   "cell_type": "code",
   "execution_count": 11,
   "metadata": {},
   "outputs": [],
   "source": [
    "import time\n",
    "\n",
    "t0 = time.time()\n",
    "knn.fit(train_x, train_y)\n",
    "mlp.fit(train_x, train_y)\n",
    "svm.fit(train_x, train_y)\n",
    "t1 = time.time()"
   ]
  },
  {
   "cell_type": "markdown",
   "metadata": {},
   "source": [
    "Checking the accuracy of the base models"
   ]
  },
  {
   "cell_type": "code",
   "execution_count": 25,
   "metadata": {},
   "outputs": [
    {
     "name": "stdout",
     "output_type": "stream",
     "text": [
      "Train accuracy:\n",
      "\tsvm 0.9667,\n",
      "\tknn 0.9833,\n",
      "\tmlp 0.9833\n",
      "Test accuracy:\n",
      "\tsvm 0.7000,\n",
      "\tknn 0.8000,\n",
      "\tmlp 0.7667\n",
      "time to fit: 311 ms (all base models combined)\n"
     ]
    }
   ],
   "source": [
    "from sklearn.metrics import accuracy_score\n",
    "\n",
    "knn_predict = knn.predict(test_x)\n",
    "train_knn_predict = knn.predict(train_x)\n",
    "\n",
    "svm_predict = svm.predict(test_x)\n",
    "train_svm_predict = svm.predict(train_x)\n",
    "\n",
    "mlp_predict = mlp.predict(test_x)\n",
    "train_mlp_predict = mlp.predict(train_x)\n",
    "\n",
    "knn_accuracy = accuracy_score(test_y, knn_predict)\n",
    "train_knn_accuracy = accuracy_score(train_y,train_knn_predict)\n",
    "\n",
    "svm_accuracy = accuracy_score(test_y, svm_predict)\n",
    "train_svm_accuracy = accuracy_score(train_y,train_svm_predict)\n",
    "\n",
    "mlp_accuracy = accuracy_score(test_y, mlp_predict)\n",
    "train_mlp_accuracy = accuracy_score(train_y,train_mlp_predict)\n",
    "\n",
    "print(f\"Train accuracy:\\n\\tsvm {train_svm_accuracy:.4f},\\n\\tknn {train_knn_accuracy:.4f},\\n\\tmlp {train_mlp_accuracy:.4f}\")\n",
    "print(f\"Test accuracy:\\n\\tsvm {svm_accuracy:.4f},\\n\\tknn {knn_accuracy:.4f},\\n\\tmlp {mlp_accuracy:.4f}\")\n",
    "print(f\"time to fit: {int((t1-t0)*1000)} ms (all base models combined)\")"
   ]
  },
  {
   "cell_type": "markdown",
   "metadata": {},
   "source": [
    "Setup the automl model from sklearn"
   ]
  },
  {
   "cell_type": "code",
   "execution_count": 3,
   "metadata": {},
   "outputs": [
    {
     "name": "stdout",
     "output_type": "stream",
     "text": [
      "train accuracy 0.9970\n",
      "test accuracy 0.9890\n",
      "time to fit: 300 seconds\n"
     ]
    }
   ],
   "source": [
    "from autosklearn.classification import AutoSklearnClassifier as ASC\n",
    "\n",
    "classifier = ASC()\n",
    "classifier.time_left_for_this_task = 300\n",
    "\n",
    "t0 = time.time()\n",
    "classifier.fit(train_x, train_y)\n",
    "t1 = time.time()\n",
    "\n",
    "autosk_predict = classifier.predict(test_x)\n",
    "train_autosk_predict = classifier.predict(train_x)\n",
    "\n",
    "autosk_accuracy = accuracy_score(test_y, autosk_predict)\n",
    "train_autosk_accuracy = accuracy_score(train_y, train_autosk_predict)\n",
    "\n",
    "print(f\"train accuracy {train_autosk_accuracy:.4f}\")\n",
    "print(f\"test accuracy {autosk_accuracy:.4f}\")\n",
    "print(f\"time to fit: {int(t1-t0)} seconds\")"
   ]
  }
 ],
 "metadata": {
  "interpreter": {
   "hash": "a707b6ce8c685eb936424fcc3009d4b4b7a52543c4db09380a3fc49186ceb509"
  },
  "kernelspec": {
   "display_name": "Python 3.8.5 64-bit ('base': conda)",
   "name": "python3"
  },
  "language_info": {
   "codemirror_mode": {
    "name": "ipython",
    "version": 3
   },
   "file_extension": ".py",
   "mimetype": "text/x-python",
   "name": "python",
   "nbconvert_exporter": "python",
   "pygments_lexer": "ipython3",
   "version": "3.8.5"
  },
  "orig_nbformat": 4
 },
 "nbformat": 4,
 "nbformat_minor": 2
}
